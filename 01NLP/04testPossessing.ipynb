{
 "cells": [
  {
   "cell_type": "markdown",
   "metadata": {},
   "source": []
  },
  {
   "cell_type": "code",
   "execution_count": 4,
   "metadata": {},
   "outputs": [],
   "source": [
    "corus=\"\"\"Lorem, ipsum dolor sit amet consectetur adipisicing elit. Voluptatem quis unde illum ea fugit possimus magni debitis, in quae architecto illo omnis. Ab culpa voluptate minus eveniet adipisci veritatis excepturi tenetur. Perferendis ipsam, sunt fuga dolorum nostrum corporis. Voluptates, rerum similique repellendus deserunt hic modi quisquam, sapiente, earum aliquid suscipit culpa cumque quasi expedita unde nemo atque quam. Accusamus quam laudantium, necessitatibus eveniet facere soluta expedita ad? Labore ipsa explicabo harum corporis commodi? Accusantium, tempora. Aspernatur et voluptatum consequuntur aliquid consectetur provident dolores pariatur eos. Deserunt labore incidunt architecto similique vero cumque aspernatur possimus, doloribus nemo nam. Consequuntur sed quisquam autem quae sapiente, delectus vitae nemo. Soluta aspernatur non ipsa quo nihil ea, repellat animi distinctio aut. Provident commodi aspernatur libero saepe eveniet nobis fugiat ratione debitis fugit repudiandae nam pariatur quos ullam illum fuga atque corporis enim sunt alias repellat quo, modi magnam? Vel molestiae corrupti tempore placeat, ipsam eum, magnam consequuntur quos sint dolores ad vitae a, mollitia eaque? Iure sapiente aut est asperiores nobis! Ipsa nam repellendus commodi, quas ipsam nostrum sapiente deleniti earum minus est dolores voluptatum magnam, ullam, numquam adipisci. Provident tenetur ea, quidem ex esse eos quibusdam facilis inventore earum in, officiis, veniam tempora?\n",
    "\"\"\""
   ]
  },
  {
   "cell_type": "code",
   "execution_count": null,
   "metadata": {},
   "outputs": [
    {
     "name": "stderr",
     "output_type": "stream",
     "text": [
      "[nltk_data] Downloading package stopwords to C:\\Users\\Tafheem\n",
      "[nltk_data]     Ahemad\\AppData\\Roaming\\nltk_data...\n",
      "[nltk_data]   Package stopwords is already up-to-date!\n"
     ]
    },
    {
     "data": {
      "text/plain": [
       "True"
      ]
     },
     "execution_count": 5,
     "metadata": {},
     "output_type": "execute_result"
    }
   ],
   "source": [
    "import nltk\n",
    "nltk.download('stopwords')"
   ]
  },
  {
   "cell_type": "code",
   "execution_count": 14,
   "metadata": {},
   "outputs": [],
   "source": [
    "from nltk.corpus import stopwords\n",
    "\n",
    "stopwords.words('english')\n",
    "EnglishWordSet=set(stopwords.words('english'))"
   ]
  },
  {
   "cell_type": "code",
   "execution_count": 13,
   "metadata": {},
   "outputs": [
    {
     "data": {
      "text/plain": [
       "['Lorem, ipsum dolor sit amet consectetur adipisicing elit.',\n",
       " 'Voluptatem quis unde illum ea fugit possimus magni debitis, in quae architecto illo omnis.',\n",
       " 'Ab culpa voluptate minus eveniet adipisci veritatis excepturi tenetur.',\n",
       " 'Perferendis ipsam, sunt fuga dolorum nostrum corporis.',\n",
       " 'Voluptates, rerum similique repellendus deserunt hic modi quisquam, sapiente, earum aliquid suscipit culpa cumque quasi expedita unde nemo atque quam.',\n",
       " 'Accusamus quam laudantium, necessitatibus eveniet facere soluta expedita ad?',\n",
       " 'Labore ipsa explicabo harum corporis commodi?',\n",
       " 'Accusantium, tempora.',\n",
       " 'Aspernatur et voluptatum consequuntur aliquid consectetur provident dolores pariatur eos.',\n",
       " 'Deserunt labore incidunt architecto similique vero cumque aspernatur possimus, doloribus nemo nam.',\n",
       " 'Consequuntur sed quisquam autem quae sapiente, delectus vitae nemo.',\n",
       " 'Soluta aspernatur non ipsa quo nihil ea, repellat animi distinctio aut.',\n",
       " 'Provident commodi aspernatur libero saepe eveniet nobis fugiat ratione debitis fugit repudiandae nam pariatur quos ullam illum fuga atque corporis enim sunt alias repellat quo, modi magnam?',\n",
       " 'Vel molestiae corrupti tempore placeat, ipsam eum, magnam consequuntur quos sint dolores ad vitae a, mollitia eaque?',\n",
       " 'Iure sapiente aut est asperiores nobis!',\n",
       " 'Ipsa nam repellendus commodi, quas ipsam nostrum sapiente deleniti earum minus est dolores voluptatum magnam, ullam, numquam adipisci.',\n",
       " 'Provident tenetur ea, quidem ex esse eos quibusdam facilis inventore earum in, officiis, veniam tempora?']"
      ]
     },
     "execution_count": 13,
     "metadata": {},
     "output_type": "execute_result"
    }
   ],
   "source": [
    "from nltk.tokenize import sent_tokenize\n",
    "sentences=sent_tokenize(corus)\n",
    "sentences"
   ]
  },
  {
   "cell_type": "code",
   "execution_count": 10,
   "metadata": {},
   "outputs": [],
   "source": [
    "from nltk.tokenize import sent_tokenize,word_tokenize,wordpunct_tokenize\n",
    "from nltk import WordNetLemmatizer\n",
    "from nltk.stem import PorterStemmer,SnowballStemmer"
   ]
  },
  {
   "cell_type": "code",
   "execution_count": 17,
   "metadata": {},
   "outputs": [
    {
     "name": "stdout",
     "output_type": "stream",
     "text": [
      "lorem, ipsum dolor sit amet consectetur adipisicing elit.\n",
      "voluptatem quis unde illum ea fugit possimus magni debitis, in quae architecto illo omnis.\n",
      "ab culpa voluptate minus eveniet adipisci veritatis excepturi tenetur.\n",
      "perferendis ipsam, sunt fuga dolorum nostrum corporis.\n",
      "voluptates, rerum similique repellendus deserunt hic modi quisquam, sapiente, earum aliquid suscipit culpa cumque quasi expedita unde nemo atque quam.\n",
      "accusamus quam laudantium, necessitatibus eveniet facere soluta expedita ad?\n",
      "labore ipsa explicabo harum corporis commodi?\n",
      "accusantium, tempora.\n",
      "aspernatur et voluptatum consequuntur aliquid consectetur provident dolores pariatur eos.\n",
      "deserunt labore incidunt architecto similique vero cumque aspernatur possimus, doloribus nemo nam.\n",
      "consequuntur sed quisquam autem quae sapiente, delectus vitae nemo.\n",
      "soluta aspernatur non ipsa quo nihil ea, repellat animi distinctio aut.\n",
      "provident commodi aspernatur libero saepe eveniet nobis fugiat ratione debitis fugit repudiandae nam pariatur quos ullam illum fuga atque corporis enim sunt alias repellat quo, modi magnam?\n",
      "vel molestiae corrupti tempore placeat, ipsam eum, magnam consequuntur quos sint dolores ad vitae a, mollitia eaque?\n",
      "iure sapiente aut est asperiores nobis!\n",
      "ipsa nam repellendus commodi, quas ipsam nostrum sapiente deleniti earum minus est dolores voluptatum magnam, ullam, numquam adipisci.\n",
      "provident tenetur ea, quidem ex esse eos quibusdam facilis inventore earum in, officiis, veniam tempora?\n"
     ]
    }
   ],
   "source": [
    "stemmer=PorterStemmer()\n",
    "for sen in sentences:\n",
    "\twords=sent_tokenize(sen)\n",
    "\twords=[stemmer.stem(word) for word in words if word not in EnglishWordSet]\n",
    "\tsen=\" \".join(words)\n",
    "\tprint(sen)"
   ]
  },
  {
   "cell_type": "code",
   "execution_count": null,
   "metadata": {},
   "outputs": [],
   "source": []
  },
  {
   "cell_type": "code",
   "execution_count": null,
   "metadata": {},
   "outputs": [],
   "source": []
  },
  {
   "cell_type": "code",
   "execution_count": null,
   "metadata": {},
   "outputs": [],
   "source": []
  },
  {
   "cell_type": "code",
   "execution_count": null,
   "metadata": {},
   "outputs": [],
   "source": []
  },
  {
   "cell_type": "code",
   "execution_count": null,
   "metadata": {},
   "outputs": [],
   "source": []
  },
  {
   "cell_type": "code",
   "execution_count": null,
   "metadata": {},
   "outputs": [],
   "source": []
  },
  {
   "cell_type": "code",
   "execution_count": null,
   "metadata": {},
   "outputs": [],
   "source": []
  }
 ],
 "metadata": {
  "kernelspec": {
   "display_name": "py312",
   "language": "python",
   "name": "python3"
  },
  "language_info": {
   "codemirror_mode": {
    "name": "ipython",
    "version": 3
   },
   "file_extension": ".py",
   "mimetype": "text/x-python",
   "name": "python",
   "nbconvert_exporter": "python",
   "pygments_lexer": "ipython3",
   "version": "3.12.5"
  }
 },
 "nbformat": 4,
 "nbformat_minor": 2
}
