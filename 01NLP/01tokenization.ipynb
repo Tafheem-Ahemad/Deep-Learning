{
 "cells": [
  {
   "cell_type": "markdown",
   "metadata": {},
   "source": []
  },
  {
   "cell_type": "code",
   "execution_count": 1,
   "metadata": {},
   "outputs": [],
   "source": [
    "import numpy as np\n",
    "import pandas as pd\n",
    "import seaborn as sns\n",
    "import matplotlib.pyplot as plt\n",
    "\n",
    "import warnings\n",
    "warnings.filterwarnings('ignore')"
   ]
  },
  {
   "cell_type": "code",
   "execution_count": 7,
   "metadata": {},
   "outputs": [],
   "source": [
    "corus=\"\"\"Lorem, ipsum dolor sit amet consectetur adipisicing elit. Voluptatem quis unde illum ea fugit possimus magni debitis, in quae architecto illo omnis. Ab culpa voluptate minus eveniet adipisci veritatis excepturi tenetur. Perferendis ipsam, sunt fuga dolorum nostrum corporis. Voluptates, rerum similique repellendus deserunt hic modi quisquam, sapiente, earum aliquid suscipit culpa cumque quasi expedita unde nemo atque quam. Accusamus quam laudantium, necessitatibus eveniet facere soluta expedita ad? Labore ipsa explicabo harum corporis commodi? Accusantium, tempora. Aspernatur et voluptatum consequuntur aliquid consectetur provident dolores pariatur eos. Deserunt labore incidunt architecto similique vero cumque aspernatur possimus, doloribus nemo nam. Consequuntur sed quisquam autem quae sapiente, delectus vitae nemo. Soluta aspernatur non ipsa quo nihil ea, repellat animi distinctio aut. Provident commodi aspernatur libero saepe eveniet nobis fugiat ratione debitis fugit repudiandae nam pariatur quos ullam illum fuga atque corporis enim sunt alias repellat quo, modi magnam? Vel molestiae corrupti tempore placeat, ipsam eum, magnam consequuntur quos sint dolores ad vitae a, mollitia eaque? Iure sapiente aut est asperiores nobis! Ipsa nam repellendus commodi, quas ipsam nostrum sapiente deleniti earum minus est dolores voluptatum magnam, ullam, numquam adipisci. Provident tenetur ea, quidem ex esse eos quibusdam facilis inventore earum in, officiis, veniam tempora?\n",
    "\"\"\""
   ]
  },
  {
   "cell_type": "code",
   "execution_count": 3,
   "metadata": {},
   "outputs": [],
   "source": [
    "corus = str(corus)"
   ]
  },
  {
   "cell_type": "code",
   "execution_count": 8,
   "metadata": {},
   "outputs": [
    {
     "data": {
      "text/plain": [
       "list"
      ]
     },
     "execution_count": 8,
     "metadata": {},
     "output_type": "execute_result"
    }
   ],
   "source": [
    "from nltk.tokenize import sent_tokenize\n",
    "sentences=sent_tokenize(corus)\n",
    "type(sentences)"
   ]
  },
  {
   "cell_type": "code",
   "execution_count": 9,
   "metadata": {},
   "outputs": [
    {
     "data": {
      "text/plain": [
       "['Lorem, ipsum dolor sit amet consectetur adipisicing elit.',\n",
       " 'Voluptatem quis unde illum ea fugit possimus magni debitis, in quae architecto illo omnis.',\n",
       " 'Ab culpa voluptate minus eveniet adipisci veritatis excepturi tenetur.',\n",
       " 'Perferendis ipsam, sunt fuga dolorum nostrum corporis.',\n",
       " 'Voluptates, rerum similique repellendus deserunt hic modi quisquam, sapiente, earum aliquid suscipit culpa cumque quasi expedita unde nemo atque quam.',\n",
       " 'Accusamus quam laudantium, necessitatibus eveniet facere soluta expedita ad?',\n",
       " 'Labore ipsa explicabo harum corporis commodi?',\n",
       " 'Accusantium, tempora.',\n",
       " 'Aspernatur et voluptatum consequuntur aliquid consectetur provident dolores pariatur eos.',\n",
       " 'Deserunt labore incidunt architecto similique vero cumque aspernatur possimus, doloribus nemo nam.',\n",
       " 'Consequuntur sed quisquam autem quae sapiente, delectus vitae nemo.',\n",
       " 'Soluta aspernatur non ipsa quo nihil ea, repellat animi distinctio aut.',\n",
       " 'Provident commodi aspernatur libero saepe eveniet nobis fugiat ratione debitis fugit repudiandae nam pariatur quos ullam illum fuga atque corporis enim sunt alias repellat quo, modi magnam?',\n",
       " 'Vel molestiae corrupti tempore placeat, ipsam eum, magnam consequuntur quos sint dolores ad vitae a, mollitia eaque?',\n",
       " 'Iure sapiente aut est asperiores nobis!',\n",
       " 'Ipsa nam repellendus commodi, quas ipsam nostrum sapiente deleniti earum minus est dolores voluptatum magnam, ullam, numquam adipisci.',\n",
       " 'Provident tenetur ea, quidem ex esse eos quibusdam facilis inventore earum in, officiis, veniam tempora?']"
      ]
     },
     "execution_count": 9,
     "metadata": {},
     "output_type": "execute_result"
    }
   ],
   "source": [
    "sentences"
   ]
  },
  {
   "cell_type": "code",
   "execution_count": null,
   "metadata": {},
   "outputs": [
    {
     "name": "stdout",
     "output_type": "stream",
     "text": [
      "['Lorem', ',', 'ipsum', 'dolor', 'sit', 'amet', 'consectetur', 'adipisicing', 'elit', '.']\n",
      "['Voluptatem', 'quis', 'unde', 'illum', 'ea', 'fugit', 'possimus', 'magni', 'debitis', ',', 'in', 'quae', 'architecto', 'illo', 'omnis', '.']\n",
      "['Ab', 'culpa', 'voluptate', 'minus', 'eveniet', 'adipisci', 'veritatis', 'excepturi', 'tenetur', '.']\n",
      "['Perferendis', 'ipsam', ',', 'sunt', 'fuga', 'dolorum', 'nostrum', 'corporis', '.']\n",
      "['Voluptates', ',', 'rerum', 'similique', 'repellendus', 'deserunt', 'hic', 'modi', 'quisquam', ',', 'sapiente', ',', 'earum', 'aliquid', 'suscipit', 'culpa', 'cumque', 'quasi', 'expedita', 'unde', 'nemo', 'atque', 'quam', '.']\n",
      "['Accusamus', 'quam', 'laudantium', ',', 'necessitatibus', 'eveniet', 'facere', 'soluta', 'expedita', 'ad', '?']\n",
      "['Labore', 'ipsa', 'explicabo', 'harum', 'corporis', 'commodi', '?']\n",
      "['Accusantium', ',', 'tempora', '.']\n",
      "['Aspernatur', 'et', 'voluptatum', 'consequuntur', 'aliquid', 'consectetur', 'provident', 'dolores', 'pariatur', 'eos', '.']\n",
      "['Deserunt', 'labore', 'incidunt', 'architecto', 'similique', 'vero', 'cumque', 'aspernatur', 'possimus', ',', 'doloribus', 'nemo', 'nam', '.']\n",
      "['Consequuntur', 'sed', 'quisquam', 'autem', 'quae', 'sapiente', ',', 'delectus', 'vitae', 'nemo', '.']\n",
      "['Soluta', 'aspernatur', 'non', 'ipsa', 'quo', 'nihil', 'ea', ',', 'repellat', 'animi', 'distinctio', 'aut', '.']\n",
      "['Provident', 'commodi', 'aspernatur', 'libero', 'saepe', 'eveniet', 'nobis', 'fugiat', 'ratione', 'debitis', 'fugit', 'repudiandae', 'nam', 'pariatur', 'quos', 'ullam', 'illum', 'fuga', 'atque', 'corporis', 'enim', 'sunt', 'alias', 'repellat', 'quo', ',', 'modi', 'magnam', '?']\n",
      "['Vel', 'molestiae', 'corrupti', 'tempore', 'placeat', ',', 'ipsam', 'eum', ',', 'magnam', 'consequuntur', 'quos', 'sint', 'dolores', 'ad', 'vitae', 'a', ',', 'mollitia', 'eaque', '?']\n",
      "['Iure', 'sapiente', 'aut', 'est', 'asperiores', 'nobis', '!']\n",
      "['Ipsa', 'nam', 'repellendus', 'commodi', ',', 'quas', 'ipsam', 'nostrum', 'sapiente', 'deleniti', 'earum', 'minus', 'est', 'dolores', 'voluptatum', 'magnam', ',', 'ullam', ',', 'numquam', 'adipisci', '.']\n",
      "['Provident', 'tenetur', 'ea', ',', 'quidem', 'ex', 'esse', 'eos', 'quibusdam', 'facilis', 'inventore', 'earum', 'in', ',', 'officiis', ',', 'veniam', 'tempora', '?']\n"
     ]
    }
   ],
   "source": [
    "from nltk.tokenize import word_tokenize\n",
    "for sen in sentences:\n",
    "\twords=word_tokenize(sen)\n",
    "\tprint(words)"
   ]
  },
  {
   "cell_type": "code",
   "execution_count": 11,
   "metadata": {},
   "outputs": [
    {
     "name": "stdout",
     "output_type": "stream",
     "text": [
      "['Lorem', ',', 'ipsum', 'dolor', 'sit', 'amet', 'consectetur', 'adipisicing', 'elit', '.']\n",
      "['Voluptatem', 'quis', 'unde', 'illum', 'ea', 'fugit', 'possimus', 'magni', 'debitis', ',', 'in', 'quae', 'architecto', 'illo', 'omnis', '.']\n",
      "['Ab', 'culpa', 'voluptate', 'minus', 'eveniet', 'adipisci', 'veritatis', 'excepturi', 'tenetur', '.']\n",
      "['Perferendis', 'ipsam', ',', 'sunt', 'fuga', 'dolorum', 'nostrum', 'corporis', '.']\n",
      "['Voluptates', ',', 'rerum', 'similique', 'repellendus', 'deserunt', 'hic', 'modi', 'quisquam', ',', 'sapiente', ',', 'earum', 'aliquid', 'suscipit', 'culpa', 'cumque', 'quasi', 'expedita', 'unde', 'nemo', 'atque', 'quam', '.']\n",
      "['Accusamus', 'quam', 'laudantium', ',', 'necessitatibus', 'eveniet', 'facere', 'soluta', 'expedita', 'ad', '?']\n",
      "['Labore', 'ipsa', 'explicabo', 'harum', 'corporis', 'commodi', '?']\n",
      "['Accusantium', ',', 'tempora', '.']\n",
      "['Aspernatur', 'et', 'voluptatum', 'consequuntur', 'aliquid', 'consectetur', 'provident', 'dolores', 'pariatur', 'eos', '.']\n",
      "['Deserunt', 'labore', 'incidunt', 'architecto', 'similique', 'vero', 'cumque', 'aspernatur', 'possimus', ',', 'doloribus', 'nemo', 'nam', '.']\n",
      "['Consequuntur', 'sed', 'quisquam', 'autem', 'quae', 'sapiente', ',', 'delectus', 'vitae', 'nemo', '.']\n",
      "['Soluta', 'aspernatur', 'non', 'ipsa', 'quo', 'nihil', 'ea', ',', 'repellat', 'animi', 'distinctio', 'aut', '.']\n",
      "['Provident', 'commodi', 'aspernatur', 'libero', 'saepe', 'eveniet', 'nobis', 'fugiat', 'ratione', 'debitis', 'fugit', 'repudiandae', 'nam', 'pariatur', 'quos', 'ullam', 'illum', 'fuga', 'atque', 'corporis', 'enim', 'sunt', 'alias', 'repellat', 'quo', ',', 'modi', 'magnam', '?']\n",
      "['Vel', 'molestiae', 'corrupti', 'tempore', 'placeat', ',', 'ipsam', 'eum', ',', 'magnam', 'consequuntur', 'quos', 'sint', 'dolores', 'ad', 'vitae', 'a', ',', 'mollitia', 'eaque', '?']\n",
      "['Iure', 'sapiente', 'aut', 'est', 'asperiores', 'nobis', '!']\n",
      "['Ipsa', 'nam', 'repellendus', 'commodi', ',', 'quas', 'ipsam', 'nostrum', 'sapiente', 'deleniti', 'earum', 'minus', 'est', 'dolores', 'voluptatum', 'magnam', ',', 'ullam', ',', 'numquam', 'adipisci', '.']\n",
      "['Provident', 'tenetur', 'ea', ',', 'quidem', 'ex', 'esse', 'eos', 'quibusdam', 'facilis', 'inventore', 'earum', 'in', ',', 'officiis', ',', 'veniam', 'tempora', '?']\n"
     ]
    }
   ],
   "source": [
    "from nltk.tokenize import wordpunct_tokenize\n",
    "for sen in sentences:\n",
    "\twords=wordpunct_tokenize(sen)\n",
    "\tprint(words)"
   ]
  },
  {
   "cell_type": "code",
   "execution_count": 12,
   "metadata": {},
   "outputs": [
    {
     "name": "stdout",
     "output_type": "stream",
     "text": [
      "['Lorem', ',', 'ipsum', 'dolor', 'sit', 'amet', 'consectetur', 'adipisicing', 'elit', '.']\n",
      "['Voluptatem', 'quis', 'unde', 'illum', 'ea', 'fugit', 'possimus', 'magni', 'debitis', ',', 'in', 'quae', 'architecto', 'illo', 'omnis', '.']\n",
      "['Ab', 'culpa', 'voluptate', 'minus', 'eveniet', 'adipisci', 'veritatis', 'excepturi', 'tenetur', '.']\n",
      "['Perferendis', 'ipsam', ',', 'sunt', 'fuga', 'dolorum', 'nostrum', 'corporis', '.']\n",
      "['Voluptates', ',', 'rerum', 'similique', 'repellendus', 'deserunt', 'hic', 'modi', 'quisquam', ',', 'sapiente', ',', 'earum', 'aliquid', 'suscipit', 'culpa', 'cumque', 'quasi', 'expedita', 'unde', 'nemo', 'atque', 'quam', '.']\n",
      "['Accusamus', 'quam', 'laudantium', ',', 'necessitatibus', 'eveniet', 'facere', 'soluta', 'expedita', 'ad', '?']\n",
      "['Labore', 'ipsa', 'explicabo', 'harum', 'corporis', 'commodi', '?']\n",
      "['Accusantium', ',', 'tempora', '.']\n",
      "['Aspernatur', 'et', 'voluptatum', 'consequuntur', 'aliquid', 'consectetur', 'provident', 'dolores', 'pariatur', 'eos', '.']\n",
      "['Deserunt', 'labore', 'incidunt', 'architecto', 'similique', 'vero', 'cumque', 'aspernatur', 'possimus', ',', 'doloribus', 'nemo', 'nam', '.']\n",
      "['Consequuntur', 'sed', 'quisquam', 'autem', 'quae', 'sapiente', ',', 'delectus', 'vitae', 'nemo', '.']\n",
      "['Soluta', 'aspernatur', 'non', 'ipsa', 'quo', 'nihil', 'ea', ',', 'repellat', 'animi', 'distinctio', 'aut', '.']\n",
      "['Provident', 'commodi', 'aspernatur', 'libero', 'saepe', 'eveniet', 'nobis', 'fugiat', 'ratione', 'debitis', 'fugit', 'repudiandae', 'nam', 'pariatur', 'quos', 'ullam', 'illum', 'fuga', 'atque', 'corporis', 'enim', 'sunt', 'alias', 'repellat', 'quo', ',', 'modi', 'magnam', '?']\n",
      "['Vel', 'molestiae', 'corrupti', 'tempore', 'placeat', ',', 'ipsam', 'eum', ',', 'magnam', 'consequuntur', 'quos', 'sint', 'dolores', 'ad', 'vitae', 'a', ',', 'mollitia', 'eaque', '?']\n",
      "['Iure', 'sapiente', 'aut', 'est', 'asperiores', 'nobis', '!']\n",
      "['Ipsa', 'nam', 'repellendus', 'commodi', ',', 'quas', 'ipsam', 'nostrum', 'sapiente', 'deleniti', 'earum', 'minus', 'est', 'dolores', 'voluptatum', 'magnam', ',', 'ullam', ',', 'numquam', 'adipisci', '.']\n",
      "['Provident', 'tenetur', 'ea', ',', 'quidem', 'ex', 'esse', 'eos', 'quibusdam', 'facilis', 'inventore', 'earum', 'in', ',', 'officiis', ',', 'veniam', 'tempora', '?']\n"
     ]
    }
   ],
   "source": [
    "from nltk.tokenize import TreebankWordTokenizer\n",
    "tokenizer=TreebankWordTokenizer()\n",
    "for sen in sentences:\n",
    "\twords=tokenizer.tokenize(sen)\n",
    "\tprint(words)"
   ]
  },
  {
   "cell_type": "code",
   "execution_count": null,
   "metadata": {},
   "outputs": [],
   "source": []
  },
  {
   "cell_type": "code",
   "execution_count": null,
   "metadata": {},
   "outputs": [],
   "source": []
  },
  {
   "cell_type": "code",
   "execution_count": null,
   "metadata": {},
   "outputs": [],
   "source": []
  },
  {
   "cell_type": "code",
   "execution_count": null,
   "metadata": {},
   "outputs": [],
   "source": []
  },
  {
   "cell_type": "code",
   "execution_count": null,
   "metadata": {},
   "outputs": [],
   "source": []
  }
 ],
 "metadata": {
  "kernelspec": {
   "display_name": "py312",
   "language": "python",
   "name": "python3"
  },
  "language_info": {
   "codemirror_mode": {
    "name": "ipython",
    "version": 3
   },
   "file_extension": ".py",
   "mimetype": "text/x-python",
   "name": "python",
   "nbconvert_exporter": "python",
   "pygments_lexer": "ipython3",
   "version": "3.12.5"
  }
 },
 "nbformat": 4,
 "nbformat_minor": 2
}
