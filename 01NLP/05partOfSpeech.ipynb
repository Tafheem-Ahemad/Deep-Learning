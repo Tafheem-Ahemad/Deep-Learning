{
 "cells": [
  {
   "cell_type": "markdown",
   "metadata": {},
   "source": []
  },
  {
   "cell_type": "code",
   "execution_count": 3,
   "metadata": {},
   "outputs": [],
   "source": [
    "from nltk.corpus import stopwords\n",
    "Stopwords=stopwords\n",
    "allCommonWords=set(Stopwords.words('english'))"
   ]
  },
  {
   "cell_type": "code",
   "execution_count": 4,
   "metadata": {},
   "outputs": [],
   "source": [
    "corpus=\"\"\"Lorem, ipsum dolor sit amet consectetur adipisicing elit. Voluptatem quis unde illum ea fugit possimus magni debitis, in quae architecto illo omnis. Ab culpa voluptate minus eveniet adipisci veritatis excepturi tenetur. Perferendis ipsam, sunt fuga dolorum nostrum corporis. Voluptates, rerum similique repellendus deserunt hic modi quisquam, sapiente, earum aliquid suscipit culpa cumque quasi expedita unde nemo atque quam. Accusamus quam laudantium, necessitatibus eveniet facere soluta expedita ad? Labore ipsa explicabo harum corporis commodi? Accusantium, tempora. Aspernatur et voluptatum consequuntur aliquid consectetur provident dolores pariatur eos. Deserunt labore incidunt architecto similique vero cumque aspernatur possimus, doloribus nemo nam. Consequuntur sed quisquam autem quae sapiente, delectus vitae nemo. Soluta aspernatur non ipsa quo nihil ea, repellat animi distinctio aut. Provident commodi aspernatur libero saepe eveniet nobis fugiat ratione debitis fugit repudiandae nam pariatur quos ullam illum fuga atque corporis enim sunt alias repellat quo, modi magnam? Vel molestiae corrupti tempore placeat, ipsam eum, magnam consequuntur quos sint dolores ad vitae a, mollitia eaque? Iure sapiente aut est asperiores nobis! Ipsa nam repellendus commodi, quas ipsam nostrum sapiente deleniti earum minus est dolores voluptatum magnam, ullam, numquam adipisci. Provident tenetur ea, quidem ex esse eos quibusdam facilis inventore earum in, officiis, veniam tempora?\"\"\""
   ]
  },
  {
   "cell_type": "code",
   "execution_count": 5,
   "metadata": {},
   "outputs": [],
   "source": [
    "from nltk.tokenize import word_tokenize,sent_tokenize\n",
    "sentences=sent_tokenize(corpus)"
   ]
  },
  {
   "cell_type": "code",
   "execution_count": 6,
   "metadata": {},
   "outputs": [],
   "source": [
    "from nltk import WordNetLemmatizer\n",
    "lemmatizer=WordNetLemmatizer()"
   ]
  },
  {
   "cell_type": "code",
   "execution_count": 9,
   "metadata": {},
   "outputs": [
    {
     "name": "stderr",
     "output_type": "stream",
     "text": [
      "[nltk_data] Downloading package averaged_perceptron_tagger_eng to\n",
      "[nltk_data]     C:\\Users\\Tafheem Ahemad\\AppData\\Roaming\\nltk_data...\n",
      "[nltk_data]   Unzipping taggers\\averaged_perceptron_tagger_eng.zip.\n"
     ]
    },
    {
     "data": {
      "text/plain": [
       "True"
      ]
     },
     "execution_count": 9,
     "metadata": {},
     "output_type": "execute_result"
    }
   ],
   "source": [
    "import nltk\n",
    "nltk.download('averaged_perceptron_tagger_eng')"
   ]
  },
  {
   "cell_type": "code",
   "execution_count": 11,
   "metadata": {},
   "outputs": [
    {
     "name": "stdout",
     "output_type": "stream",
     "text": [
      "[('Lorem', 'NNP'), (',', ','), ('ipsum', 'JJ'), ('dolor', 'NN'), ('sit', 'NN'), ('amet', 'VBD'), ('consectetur', 'JJ'), ('adipisicing', 'VBG'), ('elit', 'NN'), ('.', '.')]\n",
      "[('Voluptatem', 'NNP'), ('quis', 'VBZ'), ('unde', 'JJ'), ('illum', 'NN'), ('ea', 'NN'), ('fugit', 'JJ'), ('possimus', 'NN'), ('magni', 'NN'), ('debitis', 'NN'), (',', ','), ('quae', 'FW'), ('architecto', 'FW'), ('illo', 'JJ'), ('omnis', 'NN'), ('.', '.')]\n",
      "[('Ab', 'NNP'), ('culpa', 'NN'), ('voluptate', 'NN'), ('minus', 'NN'), ('eveniet', 'JJ'), ('adipisci', 'NN'), ('veritatis', 'NN'), ('excepturi', 'NN'), ('tenetur', 'NN'), ('.', '.')]\n",
      "[('Perferendis', 'NNP'), ('ipsam', 'NN'), (',', ','), ('sunt', 'NN'), ('fuga', 'NN'), ('dolorum', 'NN'), ('nostrum', 'JJ'), ('corporis', 'NN'), ('.', '.')]\n",
      "[('Voluptates', 'NNS'), (',', ','), ('rerum', 'NN'), ('similique', 'NN'), ('repellendus', 'NN'), ('deserunt', 'NN'), ('hic', 'JJ'), ('modi', 'NN'), ('quisquam', 'NN'), (',', ','), ('sapiente', 'NN'), (',', ','), ('earum', 'FW'), ('aliquid', 'NN'), ('suscipit', 'NN'), ('culpa', 'NN'), ('cumque', 'NN'), ('quasi', 'NN'), ('expedita', 'JJ'), ('unde', 'JJ'), ('nemo', 'NN'), ('atque', 'NN'), ('quam', 'NN'), ('.', '.')]\n",
      "[('Accusamus', 'NNP'), ('quam', 'NN'), ('laudantium', 'NN'), (',', ','), ('necessitatibus', 'JJ'), ('eveniet', 'NN'), ('facere', 'JJ'), ('soluta', 'JJ'), ('expedita', 'NN'), ('ad', 'NN'), ('?', '.')]\n",
      "[('Labore', 'RB'), ('ipsa', 'JJ'), ('explicabo', 'NN'), ('harum', 'NN'), ('corporis', 'NN'), ('commodi', 'NN'), ('?', '.')]\n",
      "[('Accusantium', 'NN'), (',', ','), ('tempora', 'NN'), ('.', '.')]\n",
      "[('Aspernatur', 'NNP'), ('et', 'CC'), ('voluptatum', 'NN'), ('consequuntur', 'NN'), ('aliquid', 'NN'), ('consectetur', 'NN'), ('provident', 'NN'), ('dolores', 'VBZ'), ('pariatur', 'JJ'), ('eos', 'NN'), ('.', '.')]\n",
      "[('Deserunt', 'NNP'), ('labore', 'VBD'), ('incidunt', 'NN'), ('architecto', 'NN'), ('similique', 'NN'), ('vero', 'NN'), ('cumque', 'NN'), ('aspernatur', 'NN'), ('possimus', 'NN'), (',', ','), ('doloribus', 'NN'), ('nemo', 'NN'), ('nam', 'NN'), ('.', '.')]\n",
      "[('Consequuntur', 'NNP'), ('sed', 'VBD'), ('quisquam', 'JJ'), ('autem', 'NN'), ('quae', 'NN'), ('sapiente', 'NN'), (',', ','), ('delectus', 'NN'), ('vitae', 'NN'), ('nemo', 'NN'), ('.', '.')]\n",
      "[('Soluta', 'NNP'), ('aspernatur', 'NN'), ('non', 'NN'), ('ipsa', 'NN'), ('quo', 'NN'), ('nihil', 'NN'), ('ea', 'NN'), (',', ','), ('repellat', 'JJ'), ('animi', 'NN'), ('distinctio', 'NN'), ('aut', 'NN'), ('.', '.')]\n",
      "[('Provident', 'NNP'), ('commodi', 'NN'), ('aspernatur', 'NN'), ('libero', 'NN'), ('saepe', 'NN'), ('eveniet', 'JJ'), ('nobis', 'JJ'), ('fugiat', 'NN'), ('ratione', 'NN'), ('debitis', 'NN'), ('fugit', 'JJ'), ('repudiandae', 'NN'), ('nam', 'JJ'), ('pariatur', 'NN'), ('quos', 'NN'), ('ullam', 'JJ'), ('illum', 'NN'), ('fuga', 'NN'), ('atque', 'NN'), ('corporis', 'NN'), ('enim', 'NN'), ('sunt', 'NN'), ('alias', 'JJ'), ('repellat', 'JJ'), ('quo', 'NN'), (',', ','), ('modi', 'NN'), ('magnam', 'NN'), ('?', '.')]\n",
      "[('Vel', 'NNP'), ('molestiae', 'NN'), ('corrupti', 'NN'), ('tempore', 'NN'), ('placeat', 'NN'), (',', ','), ('ipsam', 'NN'), ('eum', 'NN'), (',', ','), ('magnam', 'FW'), ('consequuntur', 'NN'), ('quos', 'NN'), ('sint', 'NN'), ('dolores', 'NNS'), ('ad', 'NN'), ('vitae', 'NN'), (',', ','), ('mollitia', 'NN'), ('eaque', 'NN'), ('?', '.')]\n",
      "[('Iure', 'NN'), ('sapiente', 'VBZ'), ('aut', 'JJ'), ('est', 'JJS'), ('asperiores', 'NNS'), ('nobis', 'RB'), ('!', '.')]\n",
      "[('Ipsa', 'NNP'), ('nam', 'CC'), ('repellendus', 'NN'), ('commodi', 'NN'), (',', ','), ('quas', 'JJ'), ('ipsam', 'NN'), ('nostrum', 'NN'), ('sapiente', 'NN'), ('deleniti', 'NN'), ('earum', 'NN'), ('minus', 'NN'), ('est', 'JJS'), ('dolores', 'NNS'), ('voluptatum', 'VBP'), ('magnam', 'NN'), (',', ','), ('ullam', 'JJ'), (',', ','), ('numquam', 'JJ'), ('adipisci', 'NN'), ('.', '.')]\n",
      "[('Provident', 'NNP'), ('tenetur', 'NN'), ('ea', 'NN'), (',', ','), ('quidem', 'JJ'), ('ex', 'FW'), ('esse', 'FW'), ('eos', 'FW'), ('quibusdam', 'FW'), ('facilis', 'NNS'), ('inventore', 'RB'), ('earum', 'VBP'), (',', ','), ('officiis', 'UH'), (',', ','), ('veniam', 'JJ'), ('tempora', 'NN'), ('?', '.')]\n"
     ]
    }
   ],
   "source": [
    "for sen in sentences:\n",
    "\twords=word_tokenize(sen)\n",
    "\twords=[lemmatizer.lemmatize(word) for word in words if word not in allCommonWords]\n",
    "\tpos=nltk.pos_tag(words)\n",
    "\tprint(pos)"
   ]
  },
  {
   "cell_type": "code",
   "execution_count": null,
   "metadata": {},
   "outputs": [],
   "source": []
  },
  {
   "cell_type": "code",
   "execution_count": null,
   "metadata": {},
   "outputs": [],
   "source": []
  },
  {
   "cell_type": "code",
   "execution_count": null,
   "metadata": {},
   "outputs": [],
   "source": []
  },
  {
   "cell_type": "code",
   "execution_count": null,
   "metadata": {},
   "outputs": [],
   "source": []
  },
  {
   "cell_type": "code",
   "execution_count": null,
   "metadata": {},
   "outputs": [],
   "source": []
  },
  {
   "cell_type": "code",
   "execution_count": null,
   "metadata": {},
   "outputs": [],
   "source": []
  }
 ],
 "metadata": {
  "kernelspec": {
   "display_name": "py312",
   "language": "python",
   "name": "python3"
  },
  "language_info": {
   "codemirror_mode": {
    "name": "ipython",
    "version": 3
   },
   "file_extension": ".py",
   "mimetype": "text/x-python",
   "name": "python",
   "nbconvert_exporter": "python",
   "pygments_lexer": "ipython3",
   "version": "3.12.5"
  }
 },
 "nbformat": 4,
 "nbformat_minor": 2
}
